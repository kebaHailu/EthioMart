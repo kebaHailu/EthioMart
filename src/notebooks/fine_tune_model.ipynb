{
 "cells": [
  {
   "cell_type": "markdown",
   "metadata": {
    "id": "uPy9wa47PXZ4"
   },
   "source": [
    "## Fine Tune NER Model"
   ]
  },
  {
   "cell_type": "markdown",
   "metadata": {
    "id": "tYe5iEwUPrrU"
   },
   "source": [
    "To fine-tune a Named Entity Recognition (NER) model to extract key entities (products, prices, and location) from Amharic Telegram messages, we will follow these steps."
   ]
  },
  {
   "cell_type": "markdown",
   "metadata": {
    "id": "5CkNQ4kvP0OL"
   },
   "source": [
    "**Step 1:** Set Up Environment with GPU Support\n",
    "\n",
    "- Use Google Colab or GPU-Enabled Environment Ensure that selected a runtime with GPU in Google Colab:\n",
    "\n",
    "  - Go to Runtime > Change runtime type > Select GPU.\n",
    "  \n",
    "- Install Necessary Libraries\n",
    "  - Run the following commands in a code cell to install the required libraries:"
   ]
  },
  {
   "cell_type": "code",
   "execution_count": 20,
   "metadata": {
    "execution": {
     "iopub.execute_input": "2024-09-30T19:51:57.843760Z",
     "iopub.status.busy": "2024-09-30T19:51:57.843173Z",
     "iopub.status.idle": "2024-09-30T19:51:57.847865Z",
     "shell.execute_reply": "2024-09-30T19:51:57.847021Z",
     "shell.execute_reply.started": "2024-09-30T19:51:57.843710Z"
    },
    "id": "nhj4IxiwPyA4"
   },
   "outputs": [],
   "source": [
    "# Uncomment below line, and run the cell\n",
    "#!pip install pyarrow==10.0.1 datasets==2.4.0 seqeval\n"
   ]
  },
  {
   "cell_type": "markdown",
   "metadata": {
    "id": "Aojxc6nZTwQo"
   },
   "source": [
    "- Import necessary libraries"
   ]
  },
  {
   "cell_type": "code",
   "execution_count": 21,
   "metadata": {
    "execution": {
     "iopub.execute_input": "2024-09-30T19:51:57.854105Z",
     "iopub.status.busy": "2024-09-30T19:51:57.853651Z",
     "iopub.status.idle": "2024-09-30T19:51:57.869357Z",
     "shell.execute_reply": "2024-09-30T19:51:57.868338Z",
     "shell.execute_reply.started": "2024-09-30T19:51:57.854062Z"
    },
    "id": "pR6Dkw0hT0Av"
   },
   "outputs": [],
   "source": [
    "import pandas as pd\n",
    "import numpy as np\n",
    "import matplotlib.pyplot as plt\n",
    "import seaborn as sns\n",
    "from sklearn.model_selection import train_test_split\n",
    "from sklearn.metrics import precision_recall_fscore_support\n",
    "from transformers import XLMRobertaTokenizerFast\n",
    "from datasets import Dataset, Features, Sequence, Value\n",
    "from transformers import TrainingArguments\n",
    "from transformers import XLMRobertaForTokenClassification, AutoModelForTokenClassification, AutoTokenizer, Trainer\n"
   ]
  },
  {
   "cell_type": "markdown",
   "metadata": {
    "id": "g6g_Km7VQPvd"
   },
   "source": [
    "Once the required libraries are installed, we will use transformers for the model and datasets for loading data, and seqeval for evaluating the NER model."
   ]
  },
  {
   "cell_type": "markdown",
   "metadata": {
    "id": "x8G56mh2o_35"
   },
   "source": [
    "**Step 2:** Load the Labeled Dataset from CoNLL File\n",
    "- Load the CoNLL Dataset\n",
    "  - we can load our CoNLL formatted data into a DataFrame. Here's how we can do that:"
   ]
  },
  {
   "cell_type": "code",
   "execution_count": 72,
   "metadata": {
    "execution": {
     "iopub.execute_input": "2024-09-30T21:11:00.594843Z",
     "iopub.status.busy": "2024-09-30T21:11:00.594119Z",
     "iopub.status.idle": "2024-09-30T21:11:00.676903Z",
     "shell.execute_reply": "2024-09-30T21:11:00.676113Z",
     "shell.execute_reply.started": "2024-09-30T21:11:00.594796Z"
    },
    "id": "xInIzY1XpJTK"
   },
   "outputs": [],
   "source": [
    "# Function to load CoNLL formatted data\n",
    "def load_conll(file_path):\n",
    "    sentences = []\n",
    "    labels = []\n",
    "    with open(file_path, 'r', encoding='utf-8') as f:\n",
    "        sentence = []\n",
    "        label = []\n",
    "        for line in f:\n",
    "            if line.strip():  # Non-empty line\n",
    "                token, label_item = line.split()\n",
    "                sentence.append(token)\n",
    "                label.append(label_item)\n",
    "            else:  # Empty line indicates end of a sentence\n",
    "                sentences.append(sentence)\n",
    "                labels.append(label)\n",
    "                sentence = []\n",
    "                label = []\n",
    "    return pd.DataFrame({'tokens': sentences, 'labels': labels})\n",
    "\n",
    "# Load your CoNLL file\n",
    "df = load_conll('/kaggle/input/labeled-dataset/labeled_data_conll.conll')\n"
   ]
  },
  {
   "cell_type": "code",
   "execution_count": 73,
   "metadata": {
    "colab": {
     "base_uri": "https://localhost:8080/",
     "height": 206
    },
    "execution": {
     "iopub.execute_input": "2024-09-30T21:11:03.092183Z",
     "iopub.status.busy": "2024-09-30T21:11:03.091315Z",
     "iopub.status.idle": "2024-09-30T21:11:03.108724Z",
     "shell.execute_reply": "2024-09-30T21:11:03.107884Z",
     "shell.execute_reply.started": "2024-09-30T21:11:03.092141Z"
    },
    "id": "GZu5M36oo_QS",
    "outputId": "d22220ba-9524-4569-a5de-e8b858704e58"
   },
   "outputs": [
    {
     "data": {
      "text/html": [
       "<div>\n",
       "<style scoped>\n",
       "    .dataframe tbody tr th:only-of-type {\n",
       "        vertical-align: middle;\n",
       "    }\n",
       "\n",
       "    .dataframe tbody tr th {\n",
       "        vertical-align: top;\n",
       "    }\n",
       "\n",
       "    .dataframe thead th {\n",
       "        text-align: right;\n",
       "    }\n",
       "</style>\n",
       "<table border=\"1\" class=\"dataframe\">\n",
       "  <thead>\n",
       "    <tr style=\"text-align: right;\">\n",
       "      <th></th>\n",
       "      <th>tokens</th>\n",
       "      <th>labels</th>\n",
       "    </tr>\n",
       "  </thead>\n",
       "  <tbody>\n",
       "    <tr>\n",
       "      <th>0</th>\n",
       "      <td>[ይህን, መፍጫ, ከሁሉም, የተሻለ, ሆኖ, አግኝተነዋል, 1, አስተማማኝ,...</td>\n",
       "      <td>[O, B-PRODUCT, O, O, O, O, O, O, O, O, O, O, O...</td>\n",
       "    </tr>\n",
       "    <tr>\n",
       "      <th>1</th>\n",
       "      <td>[ማጂክ, መወልወያ, ውሃ, በከፍተኛ, ደረጃ, ይመጣል, በራሱ, ይጨምቃል,...</td>\n",
       "      <td>[O, B-PRODUCT, O, O, O, O, O, O, O, O, O, B-PR...</td>\n",
       "    </tr>\n",
       "    <tr>\n",
       "      <th>2</th>\n",
       "      <td>[ባለ1, እና, ባለ, 2, ተች, ስቶቭ, ግዜዎን, እና, ጉልበትዎን, የሚ...</td>\n",
       "      <td>[O, O, O, O, O, B-PRODUCT, O, O, O, O, O, B-PR...</td>\n",
       "    </tr>\n",
       "    <tr>\n",
       "      <th>3</th>\n",
       "      <td>[ሶስት, ፍሬ, የዳቦ, እና, የኬክ, ቅርጽ, ማውጫ, መጋገሪያ, ትራ, ት...</td>\n",
       "      <td>[O, O, O, O, O, O, O, O, O, O, O, O, O, O, O, ...</td>\n",
       "    </tr>\n",
       "    <tr>\n",
       "      <th>4</th>\n",
       "      <td>[360, የሚዞር, በቀላሉ, የውሃ, ቱቦ, ላይ, የሚገጠም, ለመኪና, እጥ...</td>\n",
       "      <td>[O, O, O, O, O, O, O, O, O, O, O, O, O, O, O, ...</td>\n",
       "    </tr>\n",
       "  </tbody>\n",
       "</table>\n",
       "</div>"
      ],
      "text/plain": [
       "                                              tokens  \\\n",
       "0  [ይህን, መፍጫ, ከሁሉም, የተሻለ, ሆኖ, አግኝተነዋል, 1, አስተማማኝ,...   \n",
       "1  [ማጂክ, መወልወያ, ውሃ, በከፍተኛ, ደረጃ, ይመጣል, በራሱ, ይጨምቃል,...   \n",
       "2  [ባለ1, እና, ባለ, 2, ተች, ስቶቭ, ግዜዎን, እና, ጉልበትዎን, የሚ...   \n",
       "3  [ሶስት, ፍሬ, የዳቦ, እና, የኬክ, ቅርጽ, ማውጫ, መጋገሪያ, ትራ, ት...   \n",
       "4  [360, የሚዞር, በቀላሉ, የውሃ, ቱቦ, ላይ, የሚገጠም, ለመኪና, እጥ...   \n",
       "\n",
       "                                              labels  \n",
       "0  [O, B-PRODUCT, O, O, O, O, O, O, O, O, O, O, O...  \n",
       "1  [O, B-PRODUCT, O, O, O, O, O, O, O, O, O, B-PR...  \n",
       "2  [O, O, O, O, O, B-PRODUCT, O, O, O, O, O, B-PR...  \n",
       "3  [O, O, O, O, O, O, O, O, O, O, O, O, O, O, O, ...  \n",
       "4  [O, O, O, O, O, O, O, O, O, O, O, O, O, O, O, ...  "
      ]
     },
     "execution_count": 73,
     "metadata": {},
     "output_type": "execute_result"
    }
   ],
   "source": [
    "# Explore the first few rows\n",
    "df.head()"
   ]
  },
  {
   "cell_type": "markdown",
   "metadata": {
    "id": "ZPpmsEi0wKtj"
   },
   "source": [
    "**Define Unique Labels:**\n",
    "- Extract unique labels from the DataFrame and create a mapping from labels to IDs."
   ]
  },
  {
   "cell_type": "code",
   "execution_count": 74,
   "metadata": {
    "execution": {
     "iopub.execute_input": "2024-09-30T21:11:07.264579Z",
     "iopub.status.busy": "2024-09-30T21:11:07.264197Z",
     "iopub.status.idle": "2024-09-30T21:11:07.273955Z",
     "shell.execute_reply": "2024-09-30T21:11:07.273065Z",
     "shell.execute_reply.started": "2024-09-30T21:11:07.264535Z"
    },
    "id": "266lY-cfwFNe"
   },
   "outputs": [],
   "source": [
    "unique_labels = set(label for sublist in df['labels'] for label in sublist)\n",
    "label2id = {label: i for i, label in enumerate(unique_labels)}\n",
    "id2label = {i: label for label, i in label2id.items()}\n"
   ]
  },
  {
   "cell_type": "code",
   "execution_count": 25,
   "metadata": {
    "colab": {
     "base_uri": "https://localhost:8080/"
    },
    "execution": {
     "iopub.execute_input": "2024-09-30T19:51:58.014891Z",
     "iopub.status.busy": "2024-09-30T19:51:58.014182Z",
     "iopub.status.idle": "2024-09-30T19:51:58.022967Z",
     "shell.execute_reply": "2024-09-30T19:51:58.021685Z",
     "shell.execute_reply.started": "2024-09-30T19:51:58.014843Z"
    },
    "id": "P01Bs5K32QGb",
    "outputId": "eb9406f6-00e1-4f39-f894-55d6fc08a01e"
   },
   "outputs": [
    {
     "data": {
      "text/plain": [
       "{'B-LOCATION', 'B-PRICE', 'B-PRODUCT', 'I-PRICE', 'I-PRODUCT', 'O'}"
      ]
     },
     "execution_count": 25,
     "metadata": {},
     "output_type": "execute_result"
    }
   ],
   "source": [
    "unique_labels"
   ]
  },
  {
   "cell_type": "code",
   "execution_count": 75,
   "metadata": {
    "execution": {
     "iopub.execute_input": "2024-09-30T21:11:10.075103Z",
     "iopub.status.busy": "2024-09-30T21:11:10.074614Z",
     "iopub.status.idle": "2024-09-30T21:11:10.090364Z",
     "shell.execute_reply": "2024-09-30T21:11:10.089321Z",
     "shell.execute_reply.started": "2024-09-30T21:11:10.075037Z"
    },
    "id": "KJCzMRfMwHzR"
   },
   "outputs": [],
   "source": [
    "df['labels'] = df['labels'].apply(lambda x: [label2id[label] for label in x])\n"
   ]
  },
  {
   "cell_type": "markdown",
   "metadata": {
    "id": "e91YhG2jpfoo"
   },
   "source": [
    "**Step 3:** Convert DataFrame to Hugging Face Dataset"
   ]
  },
  {
   "cell_type": "code",
   "execution_count": 27,
   "metadata": {
    "execution": {
     "iopub.execute_input": "2024-09-30T19:51:58.041078Z",
     "iopub.status.busy": "2024-09-30T19:51:58.040706Z",
     "iopub.status.idle": "2024-09-30T19:51:58.078148Z",
     "shell.execute_reply": "2024-09-30T19:51:58.077225Z",
     "shell.execute_reply.started": "2024-09-30T19:51:58.041019Z"
    },
    "id": "qh9MOWuhpha8"
   },
   "outputs": [],
   "source": [
    "# Convert DataFrame to Hugging Face Dataset\n",
    "# Make sure 'labels' is a list of lists\n",
    "# Define the features with the correct data types\n",
    "features = Features({\n",
    "    'tokens': Sequence(Value('string')),  # List of strings for tokens\n",
    "    'labels': Sequence(Value('int32'))    # List of integers for labels\n",
    "})\n",
    "\n",
    "# Convert DataFrame to Hugging Face Dataset with specified features\n",
    "dataset = Dataset.from_pandas(df[['tokens', 'labels']], features=features)"
   ]
  },
  {
   "cell_type": "markdown",
   "metadata": {
    "id": "KfQ_O40aQYz3"
   },
   "source": [
    "**Step 4:** Tokenization and Label Alignment\n",
    "\n",
    " - Ensure Consistent Tokenization Across Models: Since we're comparing different models, make sure that the tokenization for each model is compatible with its architecture. \n",
    "- Tokenization functions for **XLM-Roberta**, **DistilBERT**, and **mBERT** can vary, so we need to adapt the tokenization for each mode\n",
    "\n"
   ]
  },
  {
   "cell_type": "markdown",
   "metadata": {},
   "source": [
    "- Tokenize and align label for XLM-ROBERTA"
   ]
  },
  {
   "cell_type": "code",
   "execution_count": null,
   "metadata": {
    "execution": {
     "iopub.execute_input": "2024-09-30T19:51:58.087024Z",
     "iopub.status.busy": "2024-09-30T19:51:58.086685Z",
     "iopub.status.idle": "2024-09-30T19:52:00.136441Z",
     "shell.execute_reply": "2024-09-30T19:52:00.135484Z",
     "shell.execute_reply.started": "2024-09-30T19:51:58.086991Z"
    },
    "id": "hMRQsElKp2aZ"
   },
   "outputs": [],
   "source": [
    "# Initialize the Fast Tokenizer\n",
    "# Use the fast tokenizer\n",
    "# For XLM-Roberta\n",
    "tokenizer = XLMRobertaTokenizerFast.from_pretrained(\n",
    "    \"xlm-roberta-base\",\n",
    "    clean_up_tokenization_spaces=True\n",
    "    )\n",
    "\n",
    "# Define tokenizer function\n",
    "def tokenize_and_align_labels(examples):\n",
    "    tokenized_inputs = tokenizer(\n",
    "        examples['tokens'], \n",
    "        truncation=True, \n",
    "        is_split_into_words=True, \n",
    "        padding=\"max_length\",  # Padding to max length\n",
    "        max_length=128  # Adjust as needed\n",
    "    )\n",
    "    \n",
    "    labels = []\n",
    "    for i, label in enumerate(examples['labels']):\n",
    "        word_ids = tokenized_inputs.word_ids(batch_index=i)  # Get word ids for each token\n",
    "        previous_word_idx = None\n",
    "        label_ids = []\n",
    "        \n",
    "        for word_idx in word_ids:\n",
    "            if word_idx is None:\n",
    "                # Token corresponds to special tokens like [CLS], [SEP], etc.\n",
    "                label_ids.append(-100)\n",
    "            elif word_idx != previous_word_idx:\n",
    "                # The first token of a word\n",
    "                label_ids.append(label[word_idx])\n",
    "            else:\n",
    "                # Subword token, assign -100 so it's ignored during training\n",
    "                label_ids.append(-100)\n",
    "            previous_word_idx = word_idx\n",
    "\n",
    "        labels.append(label_ids)\n",
    "    \n",
    "    tokenized_inputs['labels'] = labels\n",
    "    return tokenized_inputs\n",
    "\n",
    "# Tokenize the dataset using xlrm_berta\n",
    "\n",
    "tokenized_xlm_dataset = dataset.map(tokenize_and_align_labels, batched=True)\n"
   ]
  },
  {
   "cell_type": "markdown",
   "metadata": {},
   "source": [
    "- Tokenize and align for mbert"
   ]
  },
  {
   "cell_type": "code",
   "execution_count": null,
   "metadata": {
    "execution": {
     "iopub.execute_input": "2024-09-30T19:52:00.139911Z",
     "iopub.status.busy": "2024-09-30T19:52:00.139586Z",
     "iopub.status.idle": "2024-09-30T19:52:00.918186Z",
     "shell.execute_reply": "2024-09-30T19:52:00.917226Z",
     "shell.execute_reply.started": "2024-09-30T19:52:00.139878Z"
    },
    "id": "QfyaTeeqqA_i"
   },
   "outputs": [],
   "source": [
    "# For mBERT\n",
    "tokenizer_mbert = AutoTokenizer.from_pretrained(\n",
    "    'bert-base-multilingual-cased',\n",
    "    clean_up_tokenization_spaces=True\n",
    "    )\n",
    "# Define tokenizer function\n",
    "def tokenize_and_align_labels(examples):\n",
    "    tokenized_inputs = tokenizer_mbert(\n",
    "        examples['tokens'], \n",
    "        truncation=True, \n",
    "        is_split_into_words=True, \n",
    "        padding=\"max_length\",  # Padding to max length\n",
    "        max_length=128  # Adjust as needed\n",
    "    )\n",
    "    \n",
    "    labels = []\n",
    "    for i, label in enumerate(examples['labels']):\n",
    "        word_ids = tokenized_inputs.word_ids(batch_index=i)  # Get word ids for each token\n",
    "        previous_word_idx = None\n",
    "        label_ids = []\n",
    "        \n",
    "        for word_idx in word_ids:\n",
    "            if word_idx is None:\n",
    "                # Token corresponds to special tokens like [CLS], [SEP], etc.\n",
    "                label_ids.append(-100)\n",
    "            elif word_idx != previous_word_idx:\n",
    "                # The first token of a word\n",
    "                label_ids.append(label[word_idx])\n",
    "            else:\n",
    "                # Subword token, assign -100 so it's ignored during training\n",
    "                label_ids.append(-100)\n",
    "            previous_word_idx = word_idx\n",
    "\n",
    "        labels.append(label_ids)\n",
    "    \n",
    "    tokenized_inputs['labels'] = labels\n",
    "    return tokenized_inputs\n",
    "\n",
    "# Tokenize the dataset using xlrm_berta\n",
    "\n",
    "tokenized_mbert_dataset = dataset.map(tokenize_and_align_labels, batched=True)\n"
   ]
  },
  {
   "cell_type": "markdown",
   "metadata": {
    "id": "k-luujrdqFHH"
   },
   "source": [
    "- Tokenize and align label for DistilBERT\n"
   ]
  },
  {
   "cell_type": "code",
   "execution_count": null,
   "metadata": {
    "colab": {
     "base_uri": "https://localhost:8080/",
     "height": 49,
     "referenced_widgets": [
      "8500f3ba09834e45a4dc85ee0b0ca4cb",
      "431a80614eaf4de28df7a53e61270fb7",
      "d7d7ff0700c84384a31dfa51c41465c2",
      "2e743baa96e64cd2aa3309da8ba714b0",
      "fcf4dd5e93bd47038917825961a25a38",
      "f9b28c635a854ac49c3d6628d18f6f1d",
      "2b214ec73a75486abd7da3b89efc5aad",
      "40fcd5515b04437c8839bf2bcbb1ea54",
      "8653197944814584bc0953fba1082585",
      "f749cb5376a349d786eec8e0aaf3f314",
      "f66264f0504c48ec8ee52b56fe221aa1"
     ]
    },
    "execution": {
     "iopub.execute_input": "2024-09-30T19:52:00.923085Z",
     "iopub.status.busy": "2024-09-30T19:52:00.922770Z",
     "iopub.status.idle": "2024-09-30T19:52:01.689102Z",
     "shell.execute_reply": "2024-09-30T19:52:01.687999Z",
     "shell.execute_reply.started": "2024-09-30T19:52:00.923053Z"
    },
    "id": "uTm1tJcGqGkB",
    "outputId": "8517dddf-e79a-45f0-b0f8-418ca9f107af"
   },
   "outputs": [],
   "source": [
    "#Tokenize the dataset using DistilBERT\n",
    "# For DistilBERT\n",
    "tokenizer_distilbert = AutoTokenizer.from_pretrained(\n",
    "    'distilbert-base-multilingual-cased',\n",
    "    clean_up_tokenization_spaces=True\n",
    "    )\n",
    "# Define tokenizer function\n",
    "def tokenize_and_align_labels(examples):\n",
    "    tokenized_inputs = tokenizer_distilbert(\n",
    "        examples['tokens'], \n",
    "        truncation=True, \n",
    "        is_split_into_words=True, \n",
    "        padding=\"max_length\",  # Padding to max length\n",
    "        max_length=128  # Adjust as needed\n",
    "    )\n",
    "    \n",
    "    labels = []\n",
    "    for i, label in enumerate(examples['labels']):\n",
    "        word_ids = tokenized_inputs.word_ids(batch_index=i)  # Get word ids for each token\n",
    "        previous_word_idx = None\n",
    "        label_ids = []\n",
    "        \n",
    "        for word_idx in word_ids:\n",
    "            if word_idx is None:\n",
    "                # Token corresponds to special tokens like [CLS], [SEP], etc.\n",
    "                label_ids.append(-100)\n",
    "            elif word_idx != previous_word_idx:\n",
    "                # The first token of a word\n",
    "                label_ids.append(label[word_idx])\n",
    "            else:\n",
    "                # Subword token, assign -100 so it's ignored during training\n",
    "                label_ids.append(-100)\n",
    "            previous_word_idx = word_idx\n",
    "\n",
    "        labels.append(label_ids)\n",
    "    \n",
    "    tokenized_inputs['labels'] = labels\n",
    "    return tokenized_inputs\n",
    "\n",
    "tokenized_distilbert_dataset = dataset.map(tokenize_and_align_labels, batched=True)\n"
   ]
  },
  {
   "cell_type": "markdown",
   "metadata": {
    "id": "Bz--Tf1_Wu9F"
   },
   "source": [
    "- Split the dataset into train and test data of each tokenized dataset"
   ]
  },
  {
   "cell_type": "code",
   "execution_count": 32,
   "metadata": {
    "execution": {
     "iopub.execute_input": "2024-09-30T19:52:01.690842Z",
     "iopub.status.busy": "2024-09-30T19:52:01.690450Z",
     "iopub.status.idle": "2024-09-30T19:52:01.719100Z",
     "shell.execute_reply": "2024-09-30T19:52:01.718210Z",
     "shell.execute_reply.started": "2024-09-30T19:52:01.690797Z"
    },
    "id": "8ulrr4eUWuFT"
   },
   "outputs": [],
   "source": [
    "# Split into train and validation datasets\n",
    "train_test_split_xlm = tokenized_xlm_dataset.train_test_split(test_size=0.1)  # 90% train, 10% validation\n",
    "train_test_split_mbert = tokenized_mbert_dataset.train_test_split(test_size=0.1)  # 90% train, 10% validation\n",
    "train_test_split_distilbert = tokenized_distilbert_dataset.train_test_split(test_size=0.1)  # 90% train, 10% validation\n"
   ]
  },
  {
   "cell_type": "markdown",
   "metadata": {
    "id": "qX4X4p4nwZOY"
   },
   "source": [
    "**Step 5:** Set Up Training Arguments\n",
    "\n",
    "- Configure common training arguments for all models."
   ]
  },
  {
   "cell_type": "code",
   "execution_count": 34,
   "metadata": {
    "execution": {
     "iopub.execute_input": "2024-09-30T19:52:01.730434Z",
     "iopub.status.busy": "2024-09-30T19:52:01.730062Z",
     "iopub.status.idle": "2024-09-30T19:52:01.741516Z",
     "shell.execute_reply": "2024-09-30T19:52:01.740526Z",
     "shell.execute_reply.started": "2024-09-30T19:52:01.730391Z"
    },
    "id": "K-qQm8ozXY3r"
   },
   "outputs": [],
   "source": [
    "# Set up training arguments with adjustments\n",
    "training_args = TrainingArguments(\n",
    "    output_dir='./results',\n",
    "    eval_strategy=\"epoch\",     # Evaluates at the end of each epoch\n",
    "    learning_rate=2e-5,\n",
    "    per_device_train_batch_size=16,  # Batch size for training\n",
    "    per_device_eval_batch_size=16,   # Batch size for evaluation\n",
    "    num_train_epochs=3,\n",
    "    weight_decay=0.01,               # Strength of weight decay\n",
    "    max_grad_norm=1.0,  # Gradient clipping\n",
    "    logging_dir='./logs',            # Directory for storing logs\n",
    "    logging_strategy=\"steps\",        # Log at regular intervals\n",
    "    logging_steps=50,                # Log every 50 steps\n",
    "    save_strategy=\"epoch\",           # Save model at the end of each epoch\n",
    "    report_to=\"none\",                # Only show logs in the output (no TensorBoard)\n",
    "    use_cpu=True,  # Force training to happen on CPU,\n",
    "    load_best_model_at_end=True,     # Load the best model (based on metric) at the end\n",
    "    metric_for_best_model=\"eval_loss\",# Metric used to determine the best model\n",
    "    save_total_limit=1,              # Only keep the best model, delete the others\n",
    "    \n",
    ")\n"
   ]
  },
  {
   "cell_type": "markdown",
   "metadata": {
    "id": "73ZoaIWFwjJL"
   },
   "source": [
    "**Step 6:** Load and Fine-Tune the pre-trained model\n",
    "\n",
    "- Use Hugging Face Trainer API\n",
    "\n",
    "Fine-tune the model using the Trainer API.\n",
    "\n",
    "- fine-tune each of the following pre-trained models:\n",
    "\n",
    "- `xlm-roberta-base`\n",
    "\n",
    "- `DistilBERT`\n",
    "\n",
    "- `mBERT`"
   ]
  },
  {
   "cell_type": "code",
   "execution_count": 35,
   "metadata": {
    "colab": {
     "base_uri": "https://localhost:8080/"
    },
    "execution": {
     "iopub.execute_input": "2024-09-30T19:52:01.743321Z",
     "iopub.status.busy": "2024-09-30T19:52:01.742940Z",
     "iopub.status.idle": "2024-09-30T19:52:02.289374Z",
     "shell.execute_reply": "2024-09-30T19:52:02.288588Z",
     "shell.execute_reply.started": "2024-09-30T19:52:01.743278Z"
    },
    "id": "yTqt0SrnwkEZ",
    "outputId": "efc2a143-b6d9-4de3-b8ad-4e09dc4b6b98"
   },
   "outputs": [
    {
     "name": "stderr",
     "output_type": "stream",
     "text": [
      "Some weights of XLMRobertaForTokenClassification were not initialized from the model checkpoint at xlm-roberta-base and are newly initialized: ['classifier.bias', 'classifier.weight']\n",
      "You should probably TRAIN this model on a down-stream task to be able to use it for predictions and inference.\n",
      "Some weights of DistilBertForTokenClassification were not initialized from the model checkpoint at distilbert-base-multilingual-cased and are newly initialized: ['classifier.bias', 'classifier.weight']\n",
      "You should probably TRAIN this model on a down-stream task to be able to use it for predictions and inference.\n",
      "Some weights of BertForTokenClassification were not initialized from the model checkpoint at bert-base-multilingual-cased and are newly initialized: ['classifier.bias', 'classifier.weight']\n",
      "You should probably TRAIN this model on a down-stream task to be able to use it for predictions and inference.\n"
     ]
    }
   ],
   "source": [
    "# Initialize each of the models\n",
    "# For XLM-Roberta\n",
    "model_xlmr = XLMRobertaForTokenClassification.from_pretrained(\"xlm-roberta-base\", num_labels=len(unique_labels)) # Ensure unique_labels is defined\n",
    "\n",
    "# For DistilBERT\n",
    "model_distilbert = AutoModelForTokenClassification.from_pretrained('distilbert-base-multilingual-cased', num_labels=len(unique_labels))\n",
    "\n",
    "# For mBERT\n",
    "model_distilbert = AutoModelForTokenClassification.from_pretrained('bert-base-multilingual-cased', num_labels=len(unique_labels))\n",
    "\n"
   ]
  },
  {
   "cell_type": "markdown",
   "metadata": {
    "id": "xWT7bbIro-ew"
   },
   "source": [
    "- Set Up Trainer for Each Model"
   ]
  },
  {
   "cell_type": "markdown",
   "metadata": {},
   "source": [
    "- Define a custom `compute_metrics` function to calculate precision, recall, and F1-score using `scikit-learn` and pass it to the Trainer of each model.\n"
   ]
  },
  {
   "cell_type": "code",
   "execution_count": 36,
   "metadata": {
    "execution": {
     "iopub.execute_input": "2024-09-30T19:52:02.290834Z",
     "iopub.status.busy": "2024-09-30T19:52:02.290521Z",
     "iopub.status.idle": "2024-09-30T19:52:02.299861Z",
     "shell.execute_reply": "2024-09-30T19:52:02.299114Z",
     "shell.execute_reply.started": "2024-09-30T19:52:02.290801Z"
    }
   },
   "outputs": [],
   "source": [
    "# Define the function to compute evaluation metrics\n",
    "def compute_metrics(p):\n",
    "    predictions, labels = p\n",
    "    predictions = np.argmax(predictions, axis=2)\n",
    "\n",
    "    # Remove ignored index (special tokens)\n",
    "    true_labels = [[label for label in label_row if label != -100] for label_row in labels]\n",
    "    predicted_labels = [[pred for pred, true in zip(pred_row, true_row) if true != -100] for pred_row, true_row in zip(predictions, labels)]\n",
    "\n",
    "    # Flatten the lists\n",
    "    true_labels_flat = [item for sublist in true_labels for item in sublist]\n",
    "    predicted_labels_flat = [item for sublist in predicted_labels for item in sublist]\n",
    "\n",
    "    # Calculate metrics\n",
    "    precision, recall, f1, _ = precision_recall_fscore_support(true_labels_flat, predicted_labels_flat, average='weighted', zero_division=True)\n",
    "\n",
    "    return {\n",
    "        \"precision\": precision,\n",
    "        \"recall\": recall,\n",
    "        \"f1\": f1\n",
    "    }\n"
   ]
  },
  {
   "cell_type": "code",
   "execution_count": 37,
   "metadata": {
    "execution": {
     "iopub.execute_input": "2024-09-30T19:52:02.301250Z",
     "iopub.status.busy": "2024-09-30T19:52:02.300936Z",
     "iopub.status.idle": "2024-09-30T19:52:02.339429Z",
     "shell.execute_reply": "2024-09-30T19:52:02.338599Z",
     "shell.execute_reply.started": "2024-09-30T19:52:02.301217Z"
    },
    "id": "ZttRcvf3pE54"
   },
   "outputs": [],
   "source": [
    "trainer_xlmr = Trainer(\n",
    "    model=model_xlmr,\n",
    "    args=training_args,\n",
    "    train_dataset=train_test_split_xlm['train'],\n",
    "    eval_dataset=train_test_split_xlm['test'],  # Changed from validation to test based on split\n",
    "    compute_metrics=compute_metrics, # compute f1-score, precision and recall\n",
    ")\n",
    "trainer_distilbert = Trainer(\n",
    "    model=model_distilbert,\n",
    "    args=training_args,\n",
    "    train_dataset=train_test_split_mbert['train'],\n",
    "    eval_dataset=train_test_split_mbert['test'],  # Changed from validation to test based on split\n",
    "    compute_metrics=compute_metrics, # compute f1-score, precision and recall\n",
    ")\n",
    "trainer_mbert = Trainer(\n",
    "    model=model_distilbert,\n",
    "    args=training_args,\n",
    "    train_dataset=train_test_split_distilbert['train'],\n",
    "    eval_dataset=train_test_split_distilbert['test'],  # Changed from validation to test based on split\n",
    "    compute_metrics=compute_metrics, # compute f1-score, precision and recall\n",
    ")"
   ]
  },
  {
   "cell_type": "markdown",
   "metadata": {
    "id": "pW3-_1mHpIO7"
   },
   "source": [
    "**Step 8:** Train, Evaluate and Compare Model Results:\n",
    "\n",
    "- After training all three models, evaluate them using metrics such as F1-score, Precision, Recall, and Accuracy. \n",
    "- Train each model"
   ]
  },
  {
   "cell_type": "code",
   "execution_count": 38,
   "metadata": {
    "execution": {
     "iopub.execute_input": "2024-09-30T19:52:02.340847Z",
     "iopub.status.busy": "2024-09-30T19:52:02.340567Z",
     "iopub.status.idle": "2024-09-30T20:48:17.375407Z",
     "shell.execute_reply": "2024-09-30T20:48:17.374479Z",
     "shell.execute_reply.started": "2024-09-30T19:52:02.340817Z"
    }
   },
   "outputs": [
    {
     "name": "stdout",
     "output_type": "stream",
     "text": [
      "For XLM-Roberta\n"
     ]
    },
    {
     "data": {
      "text/html": [
       "\n",
       "    <div>\n",
       "      \n",
       "      <progress value='165' max='165' style='width:300px; height:20px; vertical-align: middle;'></progress>\n",
       "      [165/165 20:57, Epoch 3/3]\n",
       "    </div>\n",
       "    <table border=\"1\" class=\"dataframe\">\n",
       "  <thead>\n",
       " <tr style=\"text-align: left;\">\n",
       "      <th>Epoch</th>\n",
       "      <th>Training Loss</th>\n",
       "      <th>Validation Loss</th>\n",
       "      <th>Precision</th>\n",
       "      <th>Recall</th>\n",
       "      <th>F1</th>\n",
       "    </tr>\n",
       "  </thead>\n",
       "  <tbody>\n",
       "    <tr>\n",
       "      <td>1</td>\n",
       "      <td>0.366200</td>\n",
       "      <td>0.045816</td>\n",
       "      <td>0.991837</td>\n",
       "      <td>0.991706</td>\n",
       "      <td>0.989956</td>\n",
       "    </tr>\n",
       "    <tr>\n",
       "      <td>2</td>\n",
       "      <td>0.041900</td>\n",
       "      <td>0.018782</td>\n",
       "      <td>0.994195</td>\n",
       "      <td>0.994076</td>\n",
       "      <td>0.992319</td>\n",
       "    </tr>\n",
       "    <tr>\n",
       "      <td>3</td>\n",
       "      <td>0.023800</td>\n",
       "      <td>0.015324</td>\n",
       "      <td>0.994193</td>\n",
       "      <td>0.994076</td>\n",
       "      <td>0.992647</td>\n",
       "    </tr>\n",
       "  </tbody>\n",
       "</table><p>"
      ],
      "text/plain": [
       "<IPython.core.display.HTML object>"
      ]
     },
     "metadata": {},
     "output_type": "display_data"
    },
    {
     "name": "stdout",
     "output_type": "stream",
     "text": [
      "For DistilBERT\n"
     ]
    },
    {
     "data": {
      "text/html": [
       "\n",
       "    <div>\n",
       "      \n",
       "      <progress value='165' max='165' style='width:300px; height:20px; vertical-align: middle;'></progress>\n",
       "      [165/165 17:18, Epoch 3/3]\n",
       "    </div>\n",
       "    <table border=\"1\" class=\"dataframe\">\n",
       "  <thead>\n",
       " <tr style=\"text-align: left;\">\n",
       "      <th>Epoch</th>\n",
       "      <th>Training Loss</th>\n",
       "      <th>Validation Loss</th>\n",
       "      <th>Precision</th>\n",
       "      <th>Recall</th>\n",
       "      <th>F1</th>\n",
       "    </tr>\n",
       "  </thead>\n",
       "  <tbody>\n",
       "    <tr>\n",
       "      <td>1</td>\n",
       "      <td>0.299800</td>\n",
       "      <td>0.161489</td>\n",
       "      <td>0.949384</td>\n",
       "      <td>0.951413</td>\n",
       "      <td>0.946738</td>\n",
       "    </tr>\n",
       "    <tr>\n",
       "      <td>2</td>\n",
       "      <td>0.174500</td>\n",
       "      <td>0.118412</td>\n",
       "      <td>0.966497</td>\n",
       "      <td>0.968040</td>\n",
       "      <td>0.965168</td>\n",
       "    </tr>\n",
       "    <tr>\n",
       "      <td>3</td>\n",
       "      <td>0.143800</td>\n",
       "      <td>0.111428</td>\n",
       "      <td>0.969130</td>\n",
       "      <td>0.969887</td>\n",
       "      <td>0.966861</td>\n",
       "    </tr>\n",
       "  </tbody>\n",
       "</table><p>"
      ],
      "text/plain": [
       "<IPython.core.display.HTML object>"
      ]
     },
     "metadata": {},
     "output_type": "display_data"
    },
    {
     "name": "stdout",
     "output_type": "stream",
     "text": [
      "For mBERT\n"
     ]
    },
    {
     "data": {
      "text/html": [
       "\n",
       "    <div>\n",
       "      \n",
       "      <progress value='165' max='165' style='width:300px; height:20px; vertical-align: middle;'></progress>\n",
       "      [165/165 17:31, Epoch 3/3]\n",
       "    </div>\n",
       "    <table border=\"1\" class=\"dataframe\">\n",
       "  <thead>\n",
       " <tr style=\"text-align: left;\">\n",
       "      <th>Epoch</th>\n",
       "      <th>Training Loss</th>\n",
       "      <th>Validation Loss</th>\n",
       "      <th>Precision</th>\n",
       "      <th>Recall</th>\n",
       "      <th>F1</th>\n",
       "    </tr>\n",
       "  </thead>\n",
       "  <tbody>\n",
       "    <tr>\n",
       "      <td>1</td>\n",
       "      <td>0.135700</td>\n",
       "      <td>0.115306</td>\n",
       "      <td>0.966166</td>\n",
       "      <td>0.967920</td>\n",
       "      <td>0.963640</td>\n",
       "    </tr>\n",
       "    <tr>\n",
       "      <td>2</td>\n",
       "      <td>0.117100</td>\n",
       "      <td>0.103023</td>\n",
       "      <td>0.967952</td>\n",
       "      <td>0.969494</td>\n",
       "      <td>0.965683</td>\n",
       "    </tr>\n",
       "    <tr>\n",
       "      <td>3</td>\n",
       "      <td>0.101600</td>\n",
       "      <td>0.099357</td>\n",
       "      <td>0.969484</td>\n",
       "      <td>0.970872</td>\n",
       "      <td>0.967015</td>\n",
       "    </tr>\n",
       "  </tbody>\n",
       "</table><p>"
      ],
      "text/plain": [
       "<IPython.core.display.HTML object>"
      ]
     },
     "metadata": {},
     "output_type": "display_data"
    },
    {
     "data": {
      "text/plain": [
       "TrainOutput(global_step=165, training_loss=0.11656415606990005, metrics={'train_runtime': 1057.6847, 'train_samples_per_second': 2.468, 'train_steps_per_second': 0.156, 'total_flos': 170502299550720.0, 'train_loss': 0.11656415606990005, 'epoch': 3.0})"
      ]
     },
     "execution_count": 38,
     "metadata": {},
     "output_type": "execute_result"
    }
   ],
   "source": [
    "# Fine-tune XLM-Roberta\n",
    "print('For XLM-Roberta')\n",
    "trainer_xlmr.train()\n",
    "\n",
    "# Fine-tune DistilBERT\n",
    "print('For DistilBERT')\n",
    "trainer_distilbert.train()\n",
    "\n",
    "\n",
    "# Fine-tune mBERT\n",
    "print('For mBERT')\n",
    "trainer_mbert.train()\n"
   ]
  },
  {
   "cell_type": "markdown",
   "metadata": {},
   "source": [
    "\n",
    "- Use the Trainer’s `evaluate()` method to get the results of  the evaluation metrics for each model, and compare them side-by-side to determine which one performs the best for the NER Model\n"
   ]
  },
  {
   "cell_type": "markdown",
   "metadata": {},
   "source": [
    "- Visualize the evaluation result to better understand"
   ]
  },
  {
   "cell_type": "code",
   "execution_count": 39,
   "metadata": {
    "execution": {
     "iopub.execute_input": "2024-09-30T20:48:17.378585Z",
     "iopub.status.busy": "2024-09-30T20:48:17.378261Z",
     "iopub.status.idle": "2024-09-30T20:48:45.570021Z",
     "shell.execute_reply": "2024-09-30T20:48:45.569118Z",
     "shell.execute_reply.started": "2024-09-30T20:48:17.378553Z"
    }
   },
   "outputs": [
    {
     "data": {
      "text/html": [
       "\n",
       "    <div>\n",
       "      \n",
       "      <progress value='7' max='7' style='width:300px; height:20px; vertical-align: middle;'></progress>\n",
       "      [7/7 00:07]\n",
       "    </div>\n",
       "    "
      ],
      "text/plain": [
       "<IPython.core.display.HTML object>"
      ]
     },
     "metadata": {},
     "output_type": "display_data"
    },
    {
     "data": {
      "text/html": [
       "\n",
       "    <div>\n",
       "      \n",
       "      <progress value='7' max='7' style='width:300px; height:20px; vertical-align: middle;'></progress>\n",
       "      [7/7 00:07]\n",
       "    </div>\n",
       "    "
      ],
      "text/plain": [
       "<IPython.core.display.HTML object>"
      ]
     },
     "metadata": {},
     "output_type": "display_data"
    },
    {
     "data": {
      "text/html": [
       "\n",
       "    <div>\n",
       "      \n",
       "      <progress value='7' max='7' style='width:300px; height:20px; vertical-align: middle;'></progress>\n",
       "      [7/7 00:07]\n",
       "    </div>\n",
       "    "
      ],
      "text/plain": [
       "<IPython.core.display.HTML object>"
      ]
     },
     "metadata": {},
     "output_type": "display_data"
    },
    {
     "data": {
      "image/png": "[encoded data removed]",
      "text/plain": [
       "<Figure size 1200x400 with 2 Axes>"
      ]
     },
     "metadata": {},
     "output_type": "display_data"
    }
   ],
   "source": [
    "# Create a dictionary to hold the results\n",
    "results = {}\n",
    "\n",
    "# Evaluate each model and store the results\n",
    "results['XLM-Roberta'] = trainer_xlmr.evaluate()\n",
    "results['DistilBERT'] = trainer_distilbert.evaluate()\n",
    "results['mBERT'] = trainer_mbert.evaluate()\n",
    "\n",
    "# Extracting the relevant metrics\n",
    "eval_loss = [results[model]['eval_loss'] for model in results]\n",
    "eval_runtime = [results[model]['eval_runtime'] for model in results]\n",
    "samples_per_second = [results[model]['eval_samples_per_second'] for model in results]\n",
    "\n",
    "# Visualization for Evaluation Loss\n",
    "plt.figure(figsize=(12, 4))\n",
    "\n",
    "# Plotting Evaluation Loss\n",
    "plt.subplot(1, 3, 1)\n",
    "plt.bar(results.keys(), eval_loss, color=['blue', 'orange', 'green'])\n",
    "plt.xlabel('Models')\n",
    "plt.ylabel('Evaluation Loss')\n",
    "plt.title('Evaluation Loss for Different Models')\n",
    "\n",
    "# Plotting Evaluation Runtime\n",
    "plt.subplot(1, 3, 2)\n",
    "plt.bar(results.keys(), eval_runtime, color=['blue', 'orange', 'green'])\n",
    "plt.xlabel('Models')\n",
    "plt.ylabel('Evaluation Runtime (seconds)')\n",
    "plt.title('Evaluation Runtime for Different Models')\n",
    "\n",
    "# Plotting Samples Per Second\n",
    "# plt.subplot(1, 3, 3)\n",
    "# plt.bar(results.keys(), samples_per_second, color=['blue', 'orange', 'green'])\n",
    "# plt.xlabel('Models')\n",
    "# plt.ylabel('Samples Per Second')\n",
    "# plt.title('Samples Per Second for Different Models')\n",
    "\n",
    "plt.tight_layout()\n",
    "plt.show()\n",
    "\n"
   ]
  },
  {
   "cell_type": "markdown",
   "metadata": {},
   "source": [
    "- Visualize the result\n"
   ]
  },
  {
   "cell_type": "code",
   "execution_count": 40,
   "metadata": {
    "execution": {
     "iopub.execute_input": "2024-09-30T20:48:45.571562Z",
     "iopub.status.busy": "2024-09-30T20:48:45.571253Z",
     "iopub.status.idle": "2024-09-30T20:48:45.853379Z",
     "shell.execute_reply": "2024-09-30T20:48:45.852436Z",
     "shell.execute_reply.started": "2024-09-30T20:48:45.571522Z"
    }
   },
   "outputs": [
    {
     "data": {
      "image/png": "[encoded data removed]",
      "text/plain": [
       "<Figure size 1000x400 with 1 Axes>"
      ]
     },
     "metadata": {},
     "output_type": "display_data"
    }
   ],
   "source": [
    "# Extract data\n",
    "models = list(results.keys())\n",
    "precision_scores = [results[model]['eval_precision'] for model in models]\n",
    "recall_scores = [results[model]['eval_recall'] for model in models]\n",
    "f1_scores = [results[model]['eval_f1'] for model in models]\n",
    "\n",
    "# Plot\n",
    "plt.figure(figsize=(10, 4))\n",
    "bar_width = 0.25\n",
    "bar_positions = range(len(models))\n",
    "\n",
    "plt.bar(bar_positions, precision_scores, bar_width, color='blue', alpha=0.7, label='Precision')\n",
    "plt.bar([p + bar_width for p in bar_positions], recall_scores, bar_width, color='green', alpha=0.7, label='Recall')\n",
    "plt.bar([p + 2 * bar_width for p in bar_positions], f1_scores, bar_width, color='red', alpha=0.7, label='F1-Score')\n",
    "\n",
    "# Add labels and title\n",
    "plt.xlabel('Models')\n",
    "plt.ylabel('Scores')\n",
    "plt.title('Model Performance Comparison (Precision, Recall, F1-Score)')\n",
    "plt.xticks([p + bar_width for p in bar_positions], models)\n",
    "plt.legend()\n",
    "plt.show()"
   ]
  },
  {
   "cell_type": "markdown",
   "metadata": {
    "id": "Hel12Qu1YQv7"
   },
   "source": [
    "**Step 7:** Load the best model: \n",
    "- load the best model from ./results/best_model for future use:\n",
    "\n"
   ]
  },
  {
   "cell_type": "code",
   "execution_count": 57,
   "metadata": {
    "execution": {
     "iopub.execute_input": "2024-09-30T21:00:41.096143Z",
     "iopub.status.busy": "2024-09-30T21:00:41.095451Z",
     "iopub.status.idle": "2024-09-30T21:00:41.180891Z",
     "shell.execute_reply": "2024-09-30T21:00:41.180012Z",
     "shell.execute_reply.started": "2024-09-30T21:00:41.096098Z"
    }
   },
   "outputs": [
    {
     "name": "stdout",
     "output_type": "stream",
     "text": [
      "The token has not been saved to the git credentials helper. Pass `add_to_git_credential=True` in this function directly or `--add-to-git-credential` if using via `huggingface-cli` if you want to set the git credential as well.\n",
      "Token is valid (permission: fineGrained).\n",
      "Your token has been saved to /root/.cache/huggingface/token\n",
      "Login successful\n"
     ]
    }
   ],
   "source": [
    "from transformers import AutoModelForTokenClassification\n",
    "# Let's first authenticate\n",
    "from huggingface_hub import login\n",
    "from scripts.amharic_labeler import token \n",
    "\n",
    "\n",
    "login(token)\n"
   ]
  },
  {
   "cell_type": "code",
   "execution_count": 78,
   "metadata": {
    "execution": {
     "iopub.execute_input": "2024-09-30T21:13:33.525620Z",
     "iopub.status.busy": "2024-09-30T21:13:33.524876Z",
     "iopub.status.idle": "2024-09-30T21:13:39.116699Z",
     "shell.execute_reply": "2024-09-30T21:13:39.115741Z",
     "shell.execute_reply.started": "2024-09-30T21:13:33.525573Z"
    },
    "id": "euYHDkgnYP_q"
   },
   "outputs": [
    {
     "name": "stderr",
     "output_type": "stream",
     "text": [
      "Some weights of XLMRobertaForTokenClassification were not initialized from the model checkpoint at xlm-roberta-base and are newly initialized: ['classifier.bias', 'classifier.weight']\n",
      "You should probably TRAIN this model on a down-stream task to be able to use it for predictions and inference.\n"
     ]
    },
    {
     "name": "stdout",
     "output_type": "stream",
     "text": [
      "The best model is: XLM-Roberta\n",
      "Model saved to /content/best_model\n"
     ]
    }
   ],
   "source": [
    "# Find the model with the highest F1 score\n",
    "best_model_name = max(results, key=lambda model: results[model]['eval_f1'])\n",
    "print(f\"The best model is: {best_model_name}\")\n",
    "model_name = 'xlm-roberta-base'\n",
    "# Load the best model\n",
    "best_model = AutoModelForTokenClassification.from_pretrained(model_name, token=token)\n",
    "# Save the best model to a directory\n",
    "#save_directory = f\"./{best_model_name}_fine_tuned\"\n",
    "save_directory = \"/content/best_model\"\n",
    "best_model.save_pretrained(save_directory)\n",
    "print(f\"Model saved to {save_directory}\")\n",
    "\n"
   ]
  }
 ],
 "metadata": {
  "accelerator": "GPU",
  "colab": {
   "gpuType": "T4",
   "provenance": []
  },
  "kaggle": {
   "accelerator": "gpu",
   "dataSources": [
    {
     "datasetId": 5784552,
     "sourceId": 9504236,
     "sourceType": "datasetVersion"
    },
    {
     "datasetId": 5794068,
     "sourceId": 9517107,
     "sourceType": "datasetVersion"
    }
   ],
   "dockerImageVersionId": 30776,
   "isGpuEnabled": true,
   "isInternetEnabled": true,
   "language": "python",
   "sourceType": "notebook"
  },
  "kernelspec": {
   "display_name": "Python 3 (ipykernel)",
   "language": "python",
   "name": "python3"
  },
  "language_info": {
   "codemirror_mode": {
    "name": "ipython",
    "version": 3
   },
   "file_extension": ".py",
   "mimetype": "text/x-python",
   "name": "python",
   "nbconvert_exporter": "python",
   "pygments_lexer": "ipython3",
   "version": "3.11.3"
  },
  "widgets": {
   "application/vnd.jupyter.widget-state+json": {
    "0cd1c979eb5b408fb7d11dc619bff890": {
     "model_module": "@jupyter-widgets/controls",
     "model_module_version": "1.5.0",
     "model_name": "ProgressStyleModel",
     "state": {
      "_model_module": "@jupyter-widgets/controls",
      "_model_module_version": "1.5.0",
      "_model_name": "ProgressStyleModel",
      "_view_count": null,
      "_view_module": "@jupyter-widgets/base",
      "_view_module_version": "1.2.0",
      "_view_name": "StyleView",
      "bar_color": null,
      "description_width": ""
     }
    },
    "1980877f598c4924ad19316c570aeceb": {
     "model_module": "@jupyter-widgets/base",
     "model_module_version": "1.2.0",
     "model_name": "LayoutModel",
     "state": {
      "_model_module": "@jupyter-widgets/base",
      "_model_module_version": "1.2.0",
      "_model_name": "LayoutModel",
      "_view_count": null,
      "_view_module": "@jupyter-widgets/base",
      "_view_module_version": "1.2.0",
      "_view_name": "LayoutView",
      "align_content": null,
      "align_items": null,
      "align_self": null,
      "border": null,
      "bottom": null,
      "display": null,
      "flex": null,
      "flex_flow": null,
      "grid_area": null,
      "grid_auto_columns": null,
      "grid_auto_flow": null,
      "grid_auto_rows": null,
      "grid_column": null,
      "grid_gap": null,
      "grid_row": null,
      "grid_template_areas": null,
      "grid_template_columns": null,
      "grid_template_rows": null,
      "height": null,
      "justify_content": null,
      "justify_items": null,
      "left": null,
      "margin": null,
      "max_height": null,
      "max_width": null,
      "min_height": null,
      "min_width": null,
      "object_fit": null,
      "object_position": null,
      "order": null,
      "overflow": null,
      "overflow_x": null,
      "overflow_y": null,
      "padding": null,
      "right": null,
      "top": null,
      "visibility": null,
      "width": null
     }
    },
    "2b214ec73a75486abd7da3b89efc5aad": {
     "model_module": "@jupyter-widgets/controls",
     "model_module_version": "1.5.0",
     "model_name": "DescriptionStyleModel",
     "state": {
      "_model_module": "@jupyter-widgets/controls",
      "_model_module_version": "1.5.0",
      "_model_name": "DescriptionStyleModel",
      "_view_count": null,
      "_view_module": "@jupyter-widgets/base",
      "_view_module_version": "1.2.0",
      "_view_name": "StyleView",
      "description_width": ""
     }
    },
    "2e743baa96e64cd2aa3309da8ba714b0": {
     "model_module": "@jupyter-widgets/controls",
     "model_module_version": "1.5.0",
     "model_name": "HTMLModel",
     "state": {
      "_dom_classes": [],
      "_model_module": "@jupyter-widgets/controls",
      "_model_module_version": "1.5.0",
      "_model_name": "HTMLModel",
      "_view_count": null,
      "_view_module": "@jupyter-widgets/controls",
      "_view_module_version": "1.5.0",
      "_view_name": "HTMLView",
      "description": "",
      "description_tooltip": null,
      "layout": "IPY_MODEL_f749cb5376a349d786eec8e0aaf3f314",
      "placeholder": "​",
      "style": "IPY_MODEL_f66264f0504c48ec8ee52b56fe221aa1",
      "value": " 1/1 [00:02&lt;00:00,  2.17s/ba]"
     }
    },
    "40fcd5515b04437c8839bf2bcbb1ea54": {
     "model_module": "@jupyter-widgets/base",
     "model_module_version": "1.2.0",
     "model_name": "LayoutModel",
     "state": {
      "_model_module": "@jupyter-widgets/base",
      "_model_module_version": "1.2.0",
      "_model_name": "LayoutModel",
      "_view_count": null,
      "_view_module": "@jupyter-widgets/base",
      "_view_module_version": "1.2.0",
      "_view_name": "LayoutView",
      "align_content": null,
      "align_items": null,
      "align_self": null,
      "border": null,
      "bottom": null,
      "display": null,
      "flex": null,
      "flex_flow": null,
      "grid_area": null,
      "grid_auto_columns": null,
      "grid_auto_flow": null,
      "grid_auto_rows": null,
      "grid_column": null,
      "grid_gap": null,
      "grid_row": null,
      "grid_template_areas": null,
      "grid_template_columns": null,
      "grid_template_rows": null,
      "height": null,
      "justify_content": null,
      "justify_items": null,
      "left": null,
      "margin": null,
      "max_height": null,
      "max_width": null,
      "min_height": null,
      "min_width": null,
      "object_fit": null,
      "object_position": null,
      "order": null,
      "overflow": null,
      "overflow_x": null,
      "overflow_y": null,
      "padding": null,
      "right": null,
      "top": null,
      "visibility": null,
      "width": null
     }
    },
    "431a80614eaf4de28df7a53e61270fb7": {
     "model_module": "@jupyter-widgets/controls",
     "model_module_version": "1.5.0",
     "model_name": "HTMLModel",
     "state": {
      "_dom_classes": [],
      "_model_module": "@jupyter-widgets/controls",
      "_model_module_version": "1.5.0",
      "_model_name": "HTMLModel",
      "_view_count": null,
      "_view_module": "@jupyter-widgets/controls",
      "_view_module_version": "1.5.0",
      "_view_name": "HTMLView",
      "description": "",
      "description_tooltip": null,
      "layout": "IPY_MODEL_f9b28c635a854ac49c3d6628d18f6f1d",
      "placeholder": "​",
      "style": "IPY_MODEL_2b214ec73a75486abd7da3b89efc5aad",
      "value": "100%"
     }
    },
    "557a0863af7e4e5ea7382fbcf5926644": {
     "model_module": "@jupyter-widgets/base",
     "model_module_version": "1.2.0",
     "model_name": "LayoutModel",
     "state": {
      "_model_module": "@jupyter-widgets/base",
      "_model_module_version": "1.2.0",
      "_model_name": "LayoutModel",
      "_view_count": null,
      "_view_module": "@jupyter-widgets/base",
      "_view_module_version": "1.2.0",
      "_view_name": "LayoutView",
      "align_content": null,
      "align_items": null,
      "align_self": null,
      "border": null,
      "bottom": null,
      "display": null,
      "flex": null,
      "flex_flow": null,
      "grid_area": null,
      "grid_auto_columns": null,
      "grid_auto_flow": null,
      "grid_auto_rows": null,
      "grid_column": null,
      "grid_gap": null,
      "grid_row": null,
      "grid_template_areas": null,
      "grid_template_columns": null,
      "grid_template_rows": null,
      "height": null,
      "justify_content": null,
      "justify_items": null,
      "left": null,
      "margin": null,
      "max_height": null,
      "max_width": null,
      "min_height": null,
      "min_width": null,
      "object_fit": null,
      "object_position": null,
      "order": null,
      "overflow": null,
      "overflow_x": null,
      "overflow_y": null,
      "padding": null,
      "right": null,
      "top": null,
      "visibility": null,
      "width": null
     }
    },
    "65d4e877edab4bf6bf00ef729d6273ee": {
     "model_module": "@jupyter-widgets/controls",
     "model_module_version": "1.5.0",
     "model_name": "DescriptionStyleModel",
     "state": {
      "_model_module": "@jupyter-widgets/controls",
      "_model_module_version": "1.5.0",
      "_model_name": "DescriptionStyleModel",
      "_view_count": null,
      "_view_module": "@jupyter-widgets/base",
      "_view_module_version": "1.2.0",
      "_view_name": "StyleView",
      "description_width": ""
     }
    },
    "672e0ef9cf5c4f8d8f81490a1a457a93": {
     "model_module": "@jupyter-widgets/controls",
     "model_module_version": "1.5.0",
     "model_name": "FloatProgressModel",
     "state": {
      "_dom_classes": [],
      "_model_module": "@jupyter-widgets/controls",
      "_model_module_version": "1.5.0",
      "_model_name": "FloatProgressModel",
      "_view_count": null,
      "_view_module": "@jupyter-widgets/controls",
      "_view_module_version": "1.5.0",
      "_view_name": "ProgressView",
      "bar_style": "success",
      "description": "",
      "description_tooltip": null,
      "layout": "IPY_MODEL_e3383209446c417d8553693eaf47c82c",
      "max": 1,
      "min": 0,
      "orientation": "horizontal",
      "style": "IPY_MODEL_0cd1c979eb5b408fb7d11dc619bff890",
      "value": 1
     }
    },
    "7aab96e5b6294bffa0e8a3c3c94e0075": {
     "model_module": "@jupyter-widgets/base",
     "model_module_version": "1.2.0",
     "model_name": "LayoutModel",
     "state": {
      "_model_module": "@jupyter-widgets/base",
      "_model_module_version": "1.2.0",
      "_model_name": "LayoutModel",
      "_view_count": null,
      "_view_module": "@jupyter-widgets/base",
      "_view_module_version": "1.2.0",
      "_view_name": "LayoutView",
      "align_content": null,
      "align_items": null,
      "align_self": null,
      "border": null,
      "bottom": null,
      "display": null,
      "flex": null,
      "flex_flow": null,
      "grid_area": null,
      "grid_auto_columns": null,
      "grid_auto_flow": null,
      "grid_auto_rows": null,
      "grid_column": null,
      "grid_gap": null,
      "grid_row": null,
      "grid_template_areas": null,
      "grid_template_columns": null,
      "grid_template_rows": null,
      "height": null,
      "justify_content": null,
      "justify_items": null,
      "left": null,
      "margin": null,
      "max_height": null,
      "max_width": null,
      "min_height": null,
      "min_width": null,
      "object_fit": null,
      "object_position": null,
      "order": null,
      "overflow": null,
      "overflow_x": null,
      "overflow_y": null,
      "padding": null,
      "right": null,
      "top": null,
      "visibility": null,
      "width": null
     }
    },
    "8500f3ba09834e45a4dc85ee0b0ca4cb": {
     "model_module": "@jupyter-widgets/controls",
     "model_module_version": "1.5.0",
     "model_name": "HBoxModel",
     "state": {
      "_dom_classes": [],
      "_model_module": "@jupyter-widgets/controls",
      "_model_module_version": "1.5.0",
      "_model_name": "HBoxModel",
      "_view_count": null,
      "_view_module": "@jupyter-widgets/controls",
      "_view_module_version": "1.5.0",
      "_view_name": "HBoxView",
      "box_style": "",
      "children": [
       "IPY_MODEL_431a80614eaf4de28df7a53e61270fb7",
       "IPY_MODEL_d7d7ff0700c84384a31dfa51c41465c2",
       "IPY_MODEL_2e743baa96e64cd2aa3309da8ba714b0"
      ],
      "layout": "IPY_MODEL_fcf4dd5e93bd47038917825961a25a38"
     }
    },
    "8653197944814584bc0953fba1082585": {
     "model_module": "@jupyter-widgets/controls",
     "model_module_version": "1.5.0",
     "model_name": "ProgressStyleModel",
     "state": {
      "_model_module": "@jupyter-widgets/controls",
      "_model_module_version": "1.5.0",
      "_model_name": "ProgressStyleModel",
      "_view_count": null,
      "_view_module": "@jupyter-widgets/base",
      "_view_module_version": "1.2.0",
      "_view_name": "StyleView",
      "bar_color": null,
      "description_width": ""
     }
    },
    "9d5ae96d54fe4213a87bfd35bb006527": {
     "model_module": "@jupyter-widgets/controls",
     "model_module_version": "1.5.0",
     "model_name": "HBoxModel",
     "state": {
      "_dom_classes": [],
      "_model_module": "@jupyter-widgets/controls",
      "_model_module_version": "1.5.0",
      "_model_name": "HBoxModel",
      "_view_count": null,
      "_view_module": "@jupyter-widgets/controls",
      "_view_module_version": "1.5.0",
      "_view_name": "HBoxView",
      "box_style": "",
      "children": [
       "IPY_MODEL_c22752e0b00045cca7f85423f46737a6",
       "IPY_MODEL_672e0ef9cf5c4f8d8f81490a1a457a93",
       "IPY_MODEL_9db1ae63ab274e53b59e10dc9efa8f06"
      ],
      "layout": "IPY_MODEL_1980877f598c4924ad19316c570aeceb"
     }
    },
    "9db1ae63ab274e53b59e10dc9efa8f06": {
     "model_module": "@jupyter-widgets/controls",
     "model_module_version": "1.5.0",
     "model_name": "HTMLModel",
     "state": {
      "_dom_classes": [],
      "_model_module": "@jupyter-widgets/controls",
      "_model_module_version": "1.5.0",
      "_model_name": "HTMLModel",
      "_view_count": null,
      "_view_module": "@jupyter-widgets/controls",
      "_view_module_version": "1.5.0",
      "_view_name": "HTMLView",
      "description": "",
      "description_tooltip": null,
      "layout": "IPY_MODEL_557a0863af7e4e5ea7382fbcf5926644",
      "placeholder": "​",
      "style": "IPY_MODEL_65d4e877edab4bf6bf00ef729d6273ee",
      "value": " 1/1 [00:04&lt;00:00,  4.77s/ba]"
     }
    },
    "c22752e0b00045cca7f85423f46737a6": {
     "model_module": "@jupyter-widgets/controls",
     "model_module_version": "1.5.0",
     "model_name": "HTMLModel",
     "state": {
      "_dom_classes": [],
      "_model_module": "@jupyter-widgets/controls",
      "_model_module_version": "1.5.0",
      "_model_name": "HTMLModel",
      "_view_count": null,
      "_view_module": "@jupyter-widgets/controls",
      "_view_module_version": "1.5.0",
      "_view_name": "HTMLView",
      "description": "",
      "description_tooltip": null,
      "layout": "IPY_MODEL_7aab96e5b6294bffa0e8a3c3c94e0075",
      "placeholder": "​",
      "style": "IPY_MODEL_d2b4a1cc13c34770a8868ae94ac76854",
      "value": "100%"
     }
    },
    "d2b4a1cc13c34770a8868ae94ac76854": {
     "model_module": "@jupyter-widgets/controls",
     "model_module_version": "1.5.0",
     "model_name": "DescriptionStyleModel",
     "state": {
      "_model_module": "@jupyter-widgets/controls",
      "_model_module_version": "1.5.0",
      "_model_name": "DescriptionStyleModel",
      "_view_count": null,
      "_view_module": "@jupyter-widgets/base",
      "_view_module_version": "1.2.0",
      "_view_name": "StyleView",
      "description_width": ""
     }
    },
    "d7d7ff0700c84384a31dfa51c41465c2": {
     "model_module": "@jupyter-widgets/controls",
     "model_module_version": "1.5.0",
     "model_name": "FloatProgressModel",
     "state": {
      "_dom_classes": [],
      "_model_module": "@jupyter-widgets/controls",
      "_model_module_version": "1.5.0",
      "_model_name": "FloatProgressModel",
      "_view_count": null,
      "_view_module": "@jupyter-widgets/controls",
      "_view_module_version": "1.5.0",
      "_view_name": "ProgressView",
      "bar_style": "success",
      "description": "",
      "description_tooltip": null,
      "layout": "IPY_MODEL_40fcd5515b04437c8839bf2bcbb1ea54",
      "max": 1,
      "min": 0,
      "orientation": "horizontal",
      "style": "IPY_MODEL_8653197944814584bc0953fba1082585",
      "value": 1
     }
    },
    "e3383209446c417d8553693eaf47c82c": {
     "model_module": "@jupyter-widgets/base",
     "model_module_version": "1.2.0",
     "model_name": "LayoutModel",
     "state": {
      "_model_module": "@jupyter-widgets/base",
      "_model_module_version": "1.2.0",
      "_model_name": "LayoutModel",
      "_view_count": null,
      "_view_module": "@jupyter-widgets/base",
      "_view_module_version": "1.2.0",
      "_view_name": "LayoutView",
      "align_content": null,
      "align_items": null,
      "align_self": null,
      "border": null,
      "bottom": null,
      "display": null,
      "flex": null,
      "flex_flow": null,
      "grid_area": null,
      "grid_auto_columns": null,
      "grid_auto_flow": null,
      "grid_auto_rows": null,
      "grid_column": null,
      "grid_gap": null,
      "grid_row": null,
      "grid_template_areas": null,
      "grid_template_columns": null,
      "grid_template_rows": null,
      "height": null,
      "justify_content": null,
      "justify_items": null,
      "left": null,
      "margin": null,
      "max_height": null,
      "max_width": null,
      "min_height": null,
      "min_width": null,
      "object_fit": null,
      "object_position": null,
      "order": null,
      "overflow": null,
      "overflow_x": null,
      "overflow_y": null,
      "padding": null,
      "right": null,
      "top": null,
      "visibility": null,
      "width": null
     }
    },
    "f66264f0504c48ec8ee52b56fe221aa1": {
     "model_module": "@jupyter-widgets/controls",
     "model_module_version": "1.5.0",
     "model_name": "DescriptionStyleModel",
     "state": {
      "_model_module": "@jupyter-widgets/controls",
      "_model_module_version": "1.5.0",
      "_model_name": "DescriptionStyleModel",
      "_view_count": null,
      "_view_module": "@jupyter-widgets/base",
      "_view_module_version": "1.2.0",
      "_view_name": "StyleView",
      "description_width": ""
     }
    },
    "f749cb5376a349d786eec8e0aaf3f314": {
     "model_module": "@jupyter-widgets/base",
     "model_module_version": "1.2.0",
     "model_name": "LayoutModel",
     "state": {
      "_model_module": "@jupyter-widgets/base",
      "_model_module_version": "1.2.0",
      "_model_name": "LayoutModel",
      "_view_count": null,
      "_view_module": "@jupyter-widgets/base",
      "_view_module_version": "1.2.0",
      "_view_name": "LayoutView",
      "align_content": null,
      "align_items": null,
      "align_self": null,
      "border": null,
      "bottom": null,
      "display": null,
      "flex": null,
      "flex_flow": null,
      "grid_area": null,
      "grid_auto_columns": null,
      "grid_auto_flow": null,
      "grid_auto_rows": null,
      "grid_column": null,
      "grid_gap": null,
      "grid_row": null,
      "grid_template_areas": null,
      "grid_template_columns": null,
      "grid_template_rows": null,
      "height": null,
      "justify_content": null,
      "justify_items": null,
      "left": null,
      "margin": null,
      "max_height": null,
      "max_width": null,
      "min_height": null,
      "min_width": null,
      "object_fit": null,
      "object_position": null,
      "order": null,
      "overflow": null,
      "overflow_x": null,
      "overflow_y": null,
      "padding": null,
      "right": null,
      "top": null,
      "visibility": null,
      "width": null
     }
    },
    "f9b28c635a854ac49c3d6628d18f6f1d": {
     "model_module": "@jupyter-widgets/base",
     "model_module_version": "1.2.0",
     "model_name": "LayoutModel",
     "state": {
      "_model_module": "@jupyter-widgets/base",
      "_model_module_version": "1.2.0",
      "_model_name": "LayoutModel",
      "_view_count": null,
      "_view_module": "@jupyter-widgets/base",
      "_view_module_version": "1.2.0",
      "_view_name": "LayoutView",
      "align_content": null,
      "align_items": null,
      "align_self": null,
      "border": null,
      "bottom": null,
      "display": null,
      "flex": null,
      "flex_flow": null,
      "grid_area": null,
      "grid_auto_columns": null,
      "grid_auto_flow": null,
      "grid_auto_rows": null,
      "grid_column": null,
      "grid_gap": null,
      "grid_row": null,
      "grid_template_areas": null,
      "grid_template_columns": null,
      "grid_template_rows": null,
      "height": null,
      "justify_content": null,
      "justify_items": null,
      "left": null,
      "margin": null,
      "max_height": null,
      "max_width": null,
      "min_height": null,
      "min_width": null,
      "object_fit": null,
      "object_position": null,
      "order": null,
      "overflow": null,
      "overflow_x": null,
      "overflow_y": null,
      "padding": null,
      "right": null,
      "top": null,
      "visibility": null,
      "width": null
     }
    },
    "fcf4dd5e93bd47038917825961a25a38": {
     "model_module": "@jupyter-widgets/base",
     "model_module_version": "1.2.0",
     "model_name": "LayoutModel",
     "state": {
      "_model_module": "@jupyter-widgets/base",
      "_model_module_version": "1.2.0",
      "_model_name": "LayoutModel",
      "_view_count": null,
      "_view_module": "@jupyter-widgets/base",
      "_view_module_version": "1.2.0",
      "_view_name": "LayoutView",
      "align_content": null,
      "align_items": null,
      "align_self": null,
      "border": null,
      "bottom": null,
      "display": null,
      "flex": null,
      "flex_flow": null,
      "grid_area": null,
      "grid_auto_columns": null,
      "grid_auto_flow": null,
      "grid_auto_rows": null,
      "grid_column": null,
      "grid_gap": null,
      "grid_row": null,
      "grid_template_areas": null,
      "grid_template_columns": null,
      "grid_template_rows": null,
      "height": null,
      "justify_content": null,
      "justify_items": null,
      "left": null,
      "margin": null,
      "max_height": null,
      "max_width": null,
      "min_height": null,
      "min_width": null,
      "object_fit": null,
      "object_position": null,
      "order": null,
      "overflow": null,
      "overflow_x": null,
      "overflow_y": null,
      "padding": null,
      "right": null,
      "top": null,
      "visibility": null,
      "width": null
     }
    }
   }
  }
 },
 "nbformat": 4,
 "nbformat_minor": 4
}
